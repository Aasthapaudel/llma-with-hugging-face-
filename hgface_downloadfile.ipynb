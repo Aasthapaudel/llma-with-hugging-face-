{
  "nbformat": 4,
  "nbformat_minor": 0,
  "metadata": {
    "colab": {
      "provenance": [],
      "gpuType": "T4",
      "authorship_tag": "ABX9TyM/HTHshCxFYiwibo4eV5m2",
      "include_colab_link": true
    },
    "kernelspec": {
      "name": "python3",
      "display_name": "Python 3"
    },
    "language_info": {
      "name": "python"
    },
    "accelerator": "GPU"
  },
  "cells": [
    {
      "cell_type": "markdown",
      "metadata": {
        "id": "view-in-github",
        "colab_type": "text"
      },
      "source": [
        "<a href=\"https://colab.research.google.com/github/Aasthapaudel/llma-with-hugging-face-/blob/main/hgface_downloadfile.ipynb\" target=\"_parent\"><img src=\"https://colab.research.google.com/assets/colab-badge.svg\" alt=\"Open In Colab\"/></a>"
      ]
    },
    {
      "cell_type": "code",
      "execution_count": 1,
      "metadata": {
        "id": "koPwhidC-JPv"
      },
      "outputs": [],
      "source": [
        "import os\n",
        "from huggingface_hub import hf_hub_download"
      ]
    },
    {
      "cell_type": "code",
      "source": [
        "HUGGING_FACE_API_KEY = os.environ.get(\"HUGGING_FACE_API_KEY\")\n"
      ],
      "metadata": {
        "id": "x2i5LpZGFCYm"
      },
      "execution_count": 2,
      "outputs": []
    },
    {
      "cell_type": "code",
      "source": [
        "model_id = \"lmsys/fastchat-t5-3b-v1.0\"\n",
        "filenames = [\n",
        "        \"pytorch_model.bin\", \"added_tokens.json\", \"config.json\", \"generation_config.json\",\n",
        "        \"special_tokens_map.json\", \"spiece.model\", \"tokenizer_config.json\"\n",
        "]"
      ],
      "metadata": {
        "id": "QaVdUi3QFEtv"
      },
      "execution_count": 3,
      "outputs": []
    },
    {
      "cell_type": "code",
      "source": [
        "for filename in filenames:\n",
        "        downloaded_model_path = hf_hub_download(\n",
        "                    repo_id=model_id,\n",
        "                    filename=filename,\n",
        "                    token=HUGGING_FACE_API_KEY\n",
        "        )\n",
        "        print(downloaded_model_path)"
      ],
      "metadata": {
        "id": "56vVzsWDF5SW"
      },
      "execution_count": null,
      "outputs": []
    },
    {
      "cell_type": "markdown",
      "source": [
        "Run the LLM\n",
        "Now let's try running the model. But before we do that, let's disable the Wi-Fi."
      ],
      "metadata": {
        "id": "2WgPW014FtcB"
      }
    },
    {
      "cell_type": "code",
      "source": [
        "from utils import check_connectivity, toggle_wifi\n",
        "import time\n",
        "\n",
        "print(check_connectivity())\n",
        "toggle_wifi(\"off\")\n",
        "time.sleep(0.5)\n",
        "print(check_connectivity())"
      ],
      "metadata": {
        "id": "a98a2j61FrCo"
      },
      "execution_count": null,
      "outputs": []
    },
    {
      "cell_type": "code",
      "source": [
        "from transformers import AutoTokenizer, AutoModelForCausalLM, pipeline, AutoModelForSeq2SeqLM\n",
        "\n",
        "tokenizer = AutoTokenizer.from_pretrained(model_id, legacy=False)\n",
        "model = AutoModelForSeq2SeqLM.from_pretrained(model_id)\n",
        "\n",
        "pipeline = pipeline(\"text2text-generation\", model=model, device=-1, tokenizer=tokenizer, max_length=1000)"
      ],
      "metadata": {
        "id": "1uRElVqPF1ZH"
      },
      "execution_count": null,
      "outputs": []
    }
  ]
}